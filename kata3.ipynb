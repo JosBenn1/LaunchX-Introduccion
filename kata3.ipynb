{
 "cells": [
  {
   "cell_type": "markdown",
   "metadata": {},
   "source": [
    "# Ejercicio - Escribir declaraciones if, else, y elif\n"
   ]
  },
  {
   "cell_type": "code",
   "execution_count": 2,
   "metadata": {},
   "outputs": [
    {
     "name": "stdout",
     "output_type": "stream",
     "text": [
      "¡ADVERTENCIA!\n"
     ]
    }
   ],
   "source": [
    "# Ejercicio 1\n",
    "\n",
    "vel_asteroide = 49\n",
    "\n",
    "if vel_asteroide > 25:\n",
    "    print(\"¡ADVERTENCIA!\")\n",
    "else:\n",
    "    print(\"¡Todo normal!\")"
   ]
  },
  {
   "cell_type": "code",
   "execution_count": 3,
   "metadata": {},
   "outputs": [
    {
     "name": "stdout",
     "output_type": "stream",
     "text": [
      "Nada que ver\n"
     ]
    }
   ],
   "source": [
    "# Ejercicio 2\n",
    "\n",
    "vel_asteroide = 19\n",
    "\n",
    "if vel_asteroide == 20:\n",
    "    print (\"Buscar asteroide en el cielo\")\n",
    "elif vel_asteroide > 20:\n",
    "    print (\"Buscar asteroide en el cielo\")\n",
    "else:\n",
    "    print(\"Nada que ver\")"
   ]
  },
  {
   "cell_type": "markdown",
   "metadata": {},
   "source": [
    "# Ejercicio: Uso de operadores and y or"
   ]
  },
  {
   "cell_type": "code",
   "execution_count": 8,
   "metadata": {},
   "outputs": [
    {
     "name": "stdout",
     "output_type": "stream",
     "text": [
      "Hay una luz en el cielo\n"
     ]
    }
   ],
   "source": [
    "# Ejercicio 1\n",
    "\n",
    "vel_asteroide = 28\n",
    "tamano = 2\n",
    "\n",
    "if vel_asteroide > 25 and tamano > 25:\n",
    "    print (\"¡Advertencia. Riesgo inminente!\")\n",
    "elif vel_asteroide > 20:\n",
    "    print(\"Hay una luz en el cielo\")\n",
    "elif vel_asteroide > 25 or tamano > 25:\n",
    "    print(\"¡Advertencia!\")\n",
    "else:\n",
    "    print(\"Nada de que alertarse\")"
   ]
  }
 ],
 "metadata": {
  "interpreter": {
   "hash": "beafd7dc6464a0d4f764e43d637a78421f0f5357da67d4dda4ddc8aa84e6a62c"
  },
  "kernelspec": {
   "display_name": "Python 3.10.2 64-bit",
   "language": "python",
   "name": "python3"
  },
  "language_info": {
   "codemirror_mode": {
    "name": "ipython",
    "version": 3
   },
   "file_extension": ".py",
   "mimetype": "text/x-python",
   "name": "python",
   "nbconvert_exporter": "python",
   "pygments_lexer": "ipython3",
   "version": "3.10.2"
  },
  "orig_nbformat": 4
 },
 "nbformat": 4,
 "nbformat_minor": 2
}
